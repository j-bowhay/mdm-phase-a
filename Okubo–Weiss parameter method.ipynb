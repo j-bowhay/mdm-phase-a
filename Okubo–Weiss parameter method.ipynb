{
 "cells": [
  {
   "cell_type": "markdown",
   "id": "aedef374",
   "metadata": {},
   "source": [
    "This method uses the Okubo–Weiss parameter following the method described in: https://link.springer.com/content/pdf/10.1007/s10236-013-0680-7.pdf"
   ]
  },
  {
   "cell_type": "code",
   "execution_count": 1,
   "id": "30d25bd3",
   "metadata": {},
   "outputs": [],
   "source": [
    "import numpy as np\n",
    "import matplotlib.pyplot as plt\n",
    "import matplotlib as mpl\n",
    "%matplotlib notebook"
   ]
  },
  {
   "cell_type": "markdown",
   "id": "98c897a3",
   "metadata": {},
   "source": [
    "Read data"
   ]
  },
  {
   "cell_type": "code",
   "execution_count": 2,
   "id": "4629107b",
   "metadata": {},
   "outputs": [],
   "source": [
    "from scipy.io import netcdf_file\n",
    "\n",
    "# https://resources.marine.copernicus.eu/product-download/SEALEVEL_EUR_PHY_L4_MY_008_068\n",
    "f = netcdf_file(\"data2.nc\")\n",
    "lat = f.variables['latitude'].data\n",
    "long = f.variables['longitude'].data\n",
    "vel_x = f.variables['ugos'].data.squeeze()\n",
    "vel_y = f.variables['vgos'].data.squeeze()\n",
    "\n",
    "\n",
    "# fill in missing values\n",
    "from common_functions import interpolate_missing_point\n",
    "\n",
    "imputed_vel_x = interpolate_missing_point(vel_x, np.ma.masked_invalid(vel_x).mask)\n",
    "imputed_vel_y = interpolate_missing_point(vel_y, np.ma.masked_invalid(vel_y).mask)"
   ]
  },
  {
   "cell_type": "code",
   "execution_count": null,
   "id": "0ba18682",
   "metadata": {},
   "outputs": [],
   "source": []
  }
 ],
 "metadata": {
  "kernelspec": {
   "display_name": "Python 3 (ipykernel)",
   "language": "python",
   "name": "python3"
  },
  "language_info": {
   "codemirror_mode": {
    "name": "ipython",
    "version": 3
   },
   "file_extension": ".py",
   "mimetype": "text/x-python",
   "name": "python",
   "nbconvert_exporter": "python",
   "pygments_lexer": "ipython3",
   "version": "3.9.13"
  }
 },
 "nbformat": 4,
 "nbformat_minor": 5
}
