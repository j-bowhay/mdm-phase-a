{
 "cells": [
  {
   "cell_type": "code",
   "execution_count": 3,
   "metadata": {},
   "outputs": [],
   "source": [
    "import numpy as np\n",
    "import matplotlib.pyplot as plt\n",
    "from scipy.io import netcdf_file\n",
    "import networkx as nx"
   ]
  },
  {
   "cell_type": "code",
   "execution_count": 4,
   "metadata": {},
   "outputs": [],
   "source": [
    "#dataset = 'data10102019'\n",
    "dataset = \"01052014\"\n",
    "f = netcdf_file(f'{dataset}.nc', mmap=False)\n",
    "# f = netcdf_file('04032019.nc',mmap=False)"
   ]
  },
  {
   "cell_type": "markdown",
   "metadata": {},
   "source": [
    "#### Extract the variables from the data"
   ]
  },
  {
   "cell_type": "code",
   "execution_count": 5,
   "metadata": {},
   "outputs": [],
   "source": [
    "lon = f.variables['longitude'].data.copy()\n",
    "lat = f.variables['latitude'].data.copy()\n",
    "times = f.variables['time'].data.copy()\n",
    "\n",
    "raw_vel_x = f.variables['ugos'].data.copy().squeeze()\n",
    "raw_vel_y = f.variables['vgos'].data.copy().squeeze()"
   ]
  },
  {
   "cell_type": "code",
   "execution_count": 6,
   "metadata": {},
   "outputs": [
    {
     "name": "stdout",
     "output_type": "stream",
     "text": [
      "Lon shape (81,)\n",
      "Lat shape (320,)\n",
      "vel_x shape (320, 81)\n",
      "vel_y shape (320, 81)\n"
     ]
    }
   ],
   "source": [
    "print(\"Lon shape\",lon.shape)\n",
    "print(\"Lat shape\",lat.shape)\n",
    "print(\"vel_x shape\",raw_vel_x.shape)\n",
    "print(\"vel_y shape\",raw_vel_y.shape)"
   ]
  },
  {
   "cell_type": "markdown",
   "metadata": {},
   "source": [
    "#### Fix missing data"
   ]
  },
  {
   "cell_type": "code",
   "execution_count": 7,
   "metadata": {},
   "outputs": [],
   "source": [
    "from common_functions import interpolate_missing_point\n",
    "\n",
    "vel_x = np.ma.masked_where(np.isnan(raw_vel_x),raw_vel_x)\n",
    "vel_y = np.ma.masked_where(np.isnan(raw_vel_y),raw_vel_y)"
   ]
  },
  {
   "cell_type": "markdown",
   "metadata": {},
   "source": [
    "#### Now to begin the algorithm\n",
    "\n",
    "#### Step 1: Compute the normal vector at each point in the grid\n",
    "\n",
    "Note: the normal vectors could be either positive or negative. Depending on the rotation of the eddy, I think the vectors will either point all out or all in. So possibly need to do twice, taking negative normal second time.\n",
    "$$\n",
    "\\text{If}\n",
    "\\\\\n",
    "\\mathbf{v} = (x,y)\n",
    "\\\\\n",
    "\\text{then either}\n",
    "\\\\\n",
    "\\mathbf{n} = (-y,x) = \\mathbf{n_1}\n",
    "\\\\\n",
    "\\text{or}\n",
    "\\\\\n",
    "\\mathbf{n} = -\\mathbf{n_1} = (y,-x) = \\mathbf{n_2}"
   ]
  },
  {
   "cell_type": "code",
   "execution_count": 8,
   "metadata": {},
   "outputs": [],
   "source": [
    "vel_norm1_x = - vel_y\n",
    "vel_norm1_y = vel_x\n",
    "\n",
    "#Opposite normal\n",
    "vel_norm2_x = vel_y\n",
    "vel_norm2_y = - vel_x"
   ]
  },
  {
   "cell_type": "markdown",
   "metadata": {},
   "source": [
    "Calculate angle theta as\n",
    "$$ \\theta = \\arctan(\\frac{y}{x})"
   ]
  },
  {
   "cell_type": "code",
   "execution_count": 9,
   "metadata": {},
   "outputs": [],
   "source": [
    "theta1 = np.arctan2(vel_norm1_y,vel_norm1_x)\n",
    "theta2 = np.arctan2(vel_norm2_y,vel_norm2_x)"
   ]
  },
  {
   "cell_type": "markdown",
   "metadata": {},
   "source": [
    "Consider whether small magnitude vectors should "
   ]
  },
  {
   "cell_type": "code",
   "execution_count": 11,
   "metadata": {},
   "outputs": [],
   "source": [
    "def calc_grid_direction(theta,i,j):\n",
    "    #theta is angle in radians of the direction of the vector. Measured anticlockwise from the horizontal\n",
    "    #i,j are the x,y indeces of the cell of the vector\n",
    "    #returns output of the cell the vector is pointing to\n",
    "\n",
    "    #Initialise output indices as same as current cell\n",
    "    i_out = i\n",
    "    j_out = j\n",
    "\n",
    "    #Determine which region angle falls in\n",
    "    if -np.pi/8 < theta <= np.pi/8:\n",
    "        cell = 1\n",
    "        j_out += 1\n",
    "    elif np.pi/8 < theta <= 3*np.pi/8:\n",
    "        cell = 2\n",
    "        j_out += 1\n",
    "        i_out += 1\n",
    "    elif 3*np.pi/8 < theta <= 5*np.pi/8:\n",
    "        cell = 3\n",
    "        i_out += 1\n",
    "    elif 5*np.pi/8 < theta <= 7*np.pi/8:\n",
    "        cell = 4\n",
    "        j_out -= 1\n",
    "        i_out += 1\n",
    "    elif 7*np.pi/8 < theta <= np.pi or -np.pi <= theta <= -7*np.pi/8:\n",
    "        cell = 5\n",
    "        j_out -= 1\n",
    "    elif -7*np.pi/8 < theta <= -5*np.pi/8:\n",
    "        cell = 6\n",
    "        j_out -= 1\n",
    "        i_out -= 1\n",
    "    elif -5*np.pi/8 < theta <= -3*np.pi/8:\n",
    "        cell = 7\n",
    "        i_out -= 1\n",
    "    elif -3*np.pi/8 < theta <= -np.pi/8:\n",
    "        cell = 8\n",
    "        j_out += 1\n",
    "        i_out -= 1\n",
    "    else:\n",
    "        print(\"Error: not in within any sectors\")\n",
    "        cell=np.nan\n",
    "\n",
    "    return cell,i_out,j_out"
   ]
  },
  {
   "cell_type": "code",
   "execution_count": 12,
   "metadata": {},
   "outputs": [
    {
     "name": "stdout",
     "output_type": "stream",
     "text": [
      "Error: not in within any sectors\n",
      "Error: not in within any sectors\n"
     ]
    }
   ],
   "source": [
    "directions1 = np.zeros(theta1.shape)\n",
    "for i in range(0,theta1.shape[0]):\n",
    "    for j in range(0,theta1.shape[1]):\n",
    "        try:\n",
    "            cell,i_out,j_out= calc_grid_direction(theta1[i,j],i,j)\n",
    "            directions1[i,j] = cell\n",
    "        except:\n",
    "            continue\n",
    "\n",
    "directions2 = np.zeros(theta2.shape)\n",
    "for i in range(0,theta2.shape[0]):\n",
    "    for j in range(0,theta2.shape[1]):\n",
    "        try:\n",
    "            cell,i_out,j_out= calc_grid_direction(theta2[i,j],i,j)\n",
    "            directions2[i,j] = cell\n",
    "        except:\n",
    "            continue\n",
    "\n",
    "directions1 = np.ma.masked_where(directions1==0,directions1)\n",
    "directions2 = np.ma.masked_where(directions2==0,directions2)"
   ]
  },
  {
   "cell_type": "code",
   "execution_count": 13,
   "metadata": {},
   "outputs": [],
   "source": [
    "class grid_cell:\n",
    "    def __init__(self):\n",
    "        self.num_pointed_from = 0\n",
    "        self.indices_pointed_from = np.array([[]])\n",
    "        self.neighbours = np.array([])\n",
    "    def set_num_pointed_from(self,new_val):\n",
    "        self.num_pointed_from = new_val\n",
    "    def add_new_pointed_from(self,new_coord):\n",
    "        self.indices_pointed_from = np.array(np.vstack([self.indices_pointed_from,new_coord]) if self.indices_pointed_from.size else new_coord)\n",
    "    def add_new_grid_neighbour(self,new_neighbour):\n",
    "        self.neighbours = np.array( np.vstack([self.neighbours,new_neighbour]) if self.neighbours.size else new_neighbour)"
   ]
  },
  {
   "cell_type": "markdown",
   "metadata": {},
   "source": [
    "Make an adjacency matrix for graph later"
   ]
  },
  {
   "cell_type": "code",
   "execution_count": 14,
   "metadata": {},
   "outputs": [
    {
     "name": "stdout",
     "output_type": "stream",
     "text": [
      "Error: not in within any sectors\n",
      "Error: not in within any sectors\n"
     ]
    }
   ],
   "source": [
    "#Setup array of grid_cell objects\n",
    "grid_neighbours1 = np.array( [ [ grid_cell() for i in range(0,theta1.shape[1]) ] for j in range(0,theta1.shape[0]) ],dtype=object)\n",
    "#Adjacency matrix for which node points to which node\n",
    "grid_flat_size1 = grid_neighbours1.size\n",
    "adjacency1 = np.zeros((grid_flat_size1,grid_flat_size1))\n",
    "\n",
    "for i in range(0,theta1.shape[0]):\n",
    "    for j in range(0,theta1.shape[1]):\n",
    "        \n",
    "        direction_pointing, target_i,target_j = calc_grid_direction(theta1[i,j],i,j)\n",
    "\n",
    "        #Check if neighbour if within the grid\n",
    "        if 0 <= target_i <= theta1.shape[0]-1 and 0 <= target_j <= theta1.shape[1]-1:\n",
    "            start_node_flat_index = np.ravel_multi_index([i,j],grid_neighbours1.shape)\n",
    "            end_node_flat_index = np.ravel_multi_index([target_i,target_j],grid_neighbours1.shape)\n",
    "            adjacency1[start_node_flat_index,end_node_flat_index] = 1\n",
    "\n",
    "            grid_neighbours1[target_i,target_j].add_new_pointed_from(np.array([i,j]))\n",
    "            grid_neighbours1[target_i,target_j].num_pointed_from += 1\n",
    "            grid_neighbours1[target_i,target_j].add_new_grid_neighbour([direction_pointing])\n",
    "\n",
    "#Second normal\n",
    "#Setup array of grid_cell objects\n",
    "grid_neighbours2 = np.array( [ [ grid_cell() for i in range(0,theta2.shape[1]) ] for j in range(0,theta2.shape[0]) ],dtype=object)\n",
    "#Adjacency matrix for which node points to which node\n",
    "grid_flat_size2 = grid_neighbours2.size\n",
    "adjacency2 = np.zeros((grid_flat_size2,grid_flat_size2))\n",
    "\n",
    "for i in range(0,theta2.shape[0]):\n",
    "    for j in range(0,theta2.shape[1]):\n",
    "\n",
    "        direction_pointing, target_i,target_j = calc_grid_direction(theta2[i,j],i,j)\n",
    "\n",
    "        #Check if neighbour if within the grid\n",
    "        if 0 <= target_i <= theta2.shape[0]-1 and 0 <= target_j <= theta2.shape[1]-1:\n",
    "            start_node_flat_index = np.ravel_multi_index([i,j],grid_neighbours2.shape)\n",
    "            end_node_flat_index = np.ravel_multi_index([target_i,target_j],grid_neighbours2.shape)\n",
    "            adjacency2[start_node_flat_index,end_node_flat_index] = 1\n",
    "\n",
    "            grid_neighbours2[target_i,target_j].add_new_pointed_from(np.array([i,j]))\n",
    "            grid_neighbours2[target_i,target_j].num_pointed_from += 1\n",
    "            grid_neighbours2[target_i,target_j].add_new_grid_neighbour([direction_pointing])\n"
   ]
  },
  {
   "cell_type": "code",
   "execution_count": 15,
   "metadata": {},
   "outputs": [],
   "source": [
    "grid_flattened1 = grid_neighbours1.flatten()\n",
    "grid_size1 = grid_flattened1.size\n",
    "\n",
    "grid_flattened2 = grid_neighbours2.flatten()\n",
    "grid_size2 = grid_flattened2.size"
   ]
  },
  {
   "cell_type": "code",
   "execution_count": 16,
   "metadata": {},
   "outputs": [],
   "source": [
    "#Make lists of edges\n",
    "indices_list1 = list(np.zeros(grid_size1))\n",
    "for index in range(0,grid_size1):\n",
    "    grid_index = np.unravel_index(index,grid_neighbours1.shape)\n",
    "    indices_list1[index] = grid_neighbours1[grid_index[0],grid_index[1]].indices_pointed_from\n",
    "# indices_list\n",
    "\n",
    "#Make lists of edges\n",
    "indices_list2 = list(np.zeros(grid_size2))\n",
    "for index in range(0,grid_size1):\n",
    "    grid_index = np.unravel_index(index,grid_neighbours2.shape)\n",
    "    indices_list2[index] = grid_neighbours2[grid_index[0],grid_index[1]].indices_pointed_from\n",
    "# indices_list"
   ]
  },
  {
   "cell_type": "code",
   "execution_count": 17,
   "metadata": {},
   "outputs": [],
   "source": [
    "G1 = nx.from_numpy_matrix(adjacency1,create_using=nx.DiGraph)\n",
    "\n",
    "G2 = nx.from_numpy_matrix(adjacency2,create_using=nx.DiGraph)"
   ]
  },
  {
   "cell_type": "markdown",
   "metadata": {},
   "source": [
    "Check if any cells have a high enough neighbours to constitute an eddy"
   ]
  },
  {
   "cell_type": "code",
   "execution_count": 18,
   "metadata": {},
   "outputs": [],
   "source": [
    "def vec_normal(max_no_cells_pointed, min_neighbours_for_eddy):\n",
    "    max_no_cells_pointed1 = max_no_cells_pointed\n",
    "    potential_eddy_coords1 = np.array([[]])\n",
    "    min_neighbours_for_eddy1 = min_neighbours_for_eddy\n",
    "\n",
    "    for i in range(0,theta1.shape[0]):\n",
    "        for j in range(0,theta1.shape[1]):\n",
    "            if grid_neighbours1[i,j].num_pointed_from >= min_neighbours_for_eddy1:\n",
    "                potential_eddy_coords1 = np.array(np.vstack([potential_eddy_coords1,[[i,j]]]) if potential_eddy_coords1.size else [[i,j]])\n",
    "\n",
    "            if grid_neighbours1[i,j].num_pointed_from > max_no_cells_pointed1:\n",
    "                max_no_cells_pointed1 = grid_neighbours1[i,j].num_pointed_from\n",
    "                max_coords = [i,j]\n",
    "\n",
    "    max_no_cells_pointed2 = max_no_cells_pointed\n",
    "    potential_eddy_coords2 = np.array([[]])\n",
    "    min_neighbours_for_eddy2 = min_neighbours_for_eddy\n",
    "\n",
    "    for i in range(0,theta2.shape[0]):\n",
    "        for j in range(0,theta2.shape[1]):\n",
    "            if grid_neighbours2[i,j].num_pointed_from >= min_neighbours_for_eddy2:\n",
    "                potential_eddy_coords2 = np.array(np.vstack([potential_eddy_coords2,[[i,j]]]) if potential_eddy_coords2.size else [[i,j]])\n",
    "\n",
    "            if grid_neighbours2[i,j].num_pointed_from > max_no_cells_pointed1:\n",
    "                max_no_cells_pointed2 = grid_neighbours2[i,j].num_pointed_from\n",
    "                max_coords = [i,j]\n",
    "\n",
    "\n",
    "    symmetrical_coords1 = np.array([[]])\n",
    "\n",
    "    for coord in potential_eddy_coords1:\n",
    "        neighbour_directions1 = grid_neighbours1[coord[0],coord[1]].neighbours\n",
    "\n",
    "        #Check if at least one neighbour in each of the four quadrants, split as region A:[1,2], B:[3,4], C:[5,6] ,D:[7,8]\n",
    "        in_a = False\n",
    "        in_b = False\n",
    "        in_c = False\n",
    "        in_d = False\n",
    "\n",
    "        for neighbour in neighbour_directions1:\n",
    "            if np.any((neighbour==1)|(neighbour==2)):\n",
    "                in_a=True\n",
    "            elif np.any((neighbour==3)|(neighbour==4)):\n",
    "                in_b=True\n",
    "            elif np.any((neighbour==5)|(neighbour==6)):\n",
    "                in_c=True\n",
    "            elif np.any((neighbour==7)|(neighbour==8)):\n",
    "                in_d=True\n",
    "\n",
    "        if all((in_a,in_b,in_c,in_d)):\n",
    "            symmetrical_coords1 = np.array(np.vstack([symmetrical_coords1,coord]) if symmetrical_coords1.size else coord)\n",
    "\n",
    "\n",
    "    symmetrical_coords2 = np.array([[]])\n",
    "\n",
    "    for coord in potential_eddy_coords2:\n",
    "        neighbour_directions2 = grid_neighbours2[coord[0],coord[1]].neighbours\n",
    "\n",
    "        #Check if at least one neighbour in each of the four quadrants, split as region A:[1,2], B:[3,4], C:[5,6] ,D:[7,8]\n",
    "        in_a = False\n",
    "        in_b = False\n",
    "        in_c = False\n",
    "        in_d = False\n",
    "\n",
    "        for neighbour in neighbour_directions2:\n",
    "            if np.any((neighbour==1)|(neighbour==2)):\n",
    "                in_a=True\n",
    "            elif np.any((neighbour==3)|(neighbour==4)):\n",
    "                in_b=True\n",
    "            elif np.any((neighbour==5)|(neighbour==6)):\n",
    "                in_c=True\n",
    "            elif np.any((neighbour==7)|(neighbour==8)):\n",
    "                in_d=True\n",
    "\n",
    "        if all((in_a,in_b,in_c,in_d)):\n",
    "            symmetrical_coords2 = np.array(np.vstack([symmetrical_coords2,coord]) if symmetrical_coords2.size else coord)\n",
    "\n",
    "    #Find all the connected nodes for each cell\n",
    "    node_list1 = np.array(G1.nodes)\n",
    "    connected_nodes1 = list(np.zeros(node_list1.size))\n",
    "    for i in range(0,node_list1.size):\n",
    "        connected_nodes1[i] = np.array(nx.bfs_tree(G1,i,reverse=False).nodes)\n",
    "\n",
    "\n",
    "    #Find all the connected nodes for each cell\n",
    "    node_list2 = np.array(G2.nodes)\n",
    "    connected_nodes2 = list(np.zeros(node_list2.size))\n",
    "    for i in range(0,node_list2.size):\n",
    "        connected_nodes2[i] = np.array(nx.bfs_tree(G2,i,reverse=False).nodes)\n",
    "\n",
    "    eddie_coords1 = np.array([[]])\n",
    "    tol1 = 3\n",
    "\n",
    "    for i in range(0,symmetrical_coords1.shape[0]):\n",
    "        connected = connected_nodes1[i]\n",
    "        no_connected = connected.size\n",
    "        child_depths = []\n",
    "        for j in range(0,connected.size):\n",
    "            child_depths.append(connected_nodes1[j].size)\n",
    "        child_depths = np.array(child_depths)\n",
    "        vals,counts = np.unique(child_depths,return_counts=True)\n",
    "        mode_child_depth = np.mean(vals[np.argwhere(counts==np.max(counts))])\n",
    "        # print(no_connected,\"   \",np.floor(np.pi * mode_child_depth**2 - tol1))\n",
    "        if no_connected > np.floor(np.pi * mode_child_depth**2 - tol1):\n",
    "            eddie_coords1 = np.array(np.vstack([eddie_coords1,symmetrical_coords1[i]]) if eddie_coords1.size else symmetrical_coords1[i])\n",
    "\n",
    "\n",
    "    #Normal 2\n",
    "    eddie_coords2 = np.array([[]])\n",
    "    tol2 = 3\n",
    "\n",
    "    for i in range(0,symmetrical_coords2.shape[0]):\n",
    "        connected = connected_nodes2[i]\n",
    "        no_connected = connected.size\n",
    "        child_depths = []\n",
    "        for j in range(0,connected.size):\n",
    "            child_depths.append(connected_nodes2[j].size)\n",
    "        child_depths = np.array(child_depths)\n",
    "        vals,counts = np.unique(child_depths,return_counts=True)\n",
    "        mode_child_depth = np.mean(vals[np.argwhere(counts==np.max(counts))])\n",
    "        # print(no_connected,\"   \",np.floor(np.pi * mode_child_depth**2 - tol1))\n",
    "        if no_connected > np.floor(np.pi * mode_child_depth**2 - tol2):\n",
    "            eddie_coords2 = np.array(np.vstack([eddie_coords2,symmetrical_coords2[i]]) if eddie_coords2.size else symmetrical_coords2[i])\n",
    "\n",
    "    #Combine the two arrays\n",
    "    all_eddies = np.vstack((eddie_coords1,eddie_coords2))\n",
    "    return np.column_stack([lat[all_eddies[:,0]], lon[all_eddies[:,1]]])"
   ]
  },
  {
   "cell_type": "code",
   "execution_count": 19,
   "metadata": {},
   "outputs": [],
   "source": [
    "from dataclasses import dataclass\n",
    "\n",
    "from scipy.spatial import KDTree\n",
    "from sklearn.metrics.pairwise import haversine_distances\n",
    "import pandas as pd\n",
    "\n",
    "real_data = pd.read_csv(\"validation_data/01052014.csv\")\n",
    "real_data = real_data[[\"Lat\",\"Lon\"]].to_numpy()\n",
    "real_data = real_data[(real_data[:,1] > -30) & (real_data[:,1] < -20) & (real_data[:,0] > 20) & (real_data[:,0] < 60)]\n",
    "\n",
    "@dataclass\n",
    "class Method:\n",
    "    name: str\n",
    "    points: np.ndarray\n",
    "    P: int = 0\n",
    "    TP: int = 0\n",
    "    FP: int = 0\n",
    "        \n",
    "    def compare(self, ground_truth: np.ndarray, dist_tol):\n",
    "        '''dist_tol is in km'''\n",
    "        self.P = ground_truth.shape[0]\n",
    "        \n",
    "        tree_detected = KDTree(self.points)\n",
    "        dist, index = tree_detected.query(ground_truth[:,0:2])\n",
    "        truth = np.deg2rad(ground_truth[:,0:2])\n",
    "        detected = np.deg2rad(self.points[index,:])\n",
    "        dist_mat = haversine_distances(truth, detected)\n",
    "        dist = np.diagonal(dist_mat) * 6371000/1000  # multiply by Earth radius to get kilometers\n",
    "        \n",
    "        self.TP = (dist < dist_tol).sum()\n",
    "        self.mean_error = np.mean(dist[dist < dist_tol])\n",
    "        self.FN = self.P - self.TP\n",
    "        \n",
    "        tree_truth = KDTree(ground_truth[:,0:2])\n",
    "        dist, index = tree_truth.query(self.points)\n",
    "        detected = np.deg2rad(ground_truth[index,0:2])\n",
    "        dist_mat = haversine_distances(truth, detected)\n",
    "        dist = np.diagonal(dist_mat) * 6371000/1000  # multiply by Earth radius to get kilometers\n",
    "                \n",
    "        self.FP = (dist > dist_tol).sum()\n",
    "    \n",
    "    @property\n",
    "    def TPR(self):\n",
    "        return self.TP/self.P\n",
    "    \n",
    "    @property\n",
    "    def FDR(self):\n",
    "        return self.FP/(self.FP + self.TP)\n",
    "    \n",
    "    @property\n",
    "    def F1(self):\n",
    "        return self.TP/(self.TP + 0.5*(self.FP + self.FN))"
   ]
  },
  {
   "cell_type": "code",
   "execution_count": 21,
   "metadata": {},
   "outputs": [],
   "source": [
    "res = np.empty((10,10))\n",
    "for a in range(10):\n",
    "    for b in range(10):\n",
    "        try:\n",
    "            method = Method(\"\",vec_normal(a+1,b+1))\n",
    "            method.compare(real_data, 50)\n",
    "            res[a,b] = method.F1\n",
    "        except IndexError:\n",
    "            res[a,b] = 0"
   ]
  },
  {
   "cell_type": "code",
   "execution_count": 22,
   "metadata": {},
   "outputs": [
    {
     "data": {
      "image/png": "[encoded data removed]",
      "text/plain": [
       "<Figure size 640x480 with 2 Axes>"
      ]
     },
     "metadata": {},
     "output_type": "display_data"
    }
   ],
   "source": [
    "from mpl_toolkits.axes_grid1 import make_axes_locatable\n",
    "plt.figure()\n",
    "im=plt.imshow(res, origin='lower', extent=[1,10,1,10], aspect='equal')\n",
    "plt.ylabel(\"$a$\")\n",
    "plt.xlabel(\"$b$\")\n",
    "plt.xticks(np.linspace(1.5,9.5,10))\n",
    "plt.yticks(np.linspace(1.5,9.5,10))\n",
    "ax = plt.gca()\n",
    "ax.set_xticklabels(range(1,11))\n",
    "ax.set_yticklabels(range(1,11))\n",
    "divider = make_axes_locatable(ax)\n",
    "cax = divider.append_axes(\"right\", size=\"5%\", pad=0.05)\n",
    "   \n",
    "cbar = plt.colorbar(im, cax=cax)\n",
    "cbar.set_label(\"F1-score\")"
   ]
  },
  {
   "cell_type": "code",
   "execution_count": 24,
   "metadata": {},
   "outputs": [
    {
     "name": "stdout",
     "output_type": "stream",
     "text": [
      "[[0.23741007 0.23741007 0.23741007 0.23741007 0.25373134 0.21818182\n",
      "  0.0969697  0.02816901 0.         0.        ]\n",
      " [0.23741007 0.23741007 0.23741007 0.23741007 0.25373134 0.21818182\n",
      "  0.0969697  0.02816901 0.         0.        ]\n",
      " [0.23741007 0.23741007 0.23741007 0.23741007 0.25373134 0.21818182\n",
      "  0.0969697  0.02816901 0.         0.        ]\n",
      " [0.23741007 0.23741007 0.23741007 0.23741007 0.25373134 0.21818182\n",
      "  0.0969697  0.02816901 0.         0.        ]\n",
      " [0.23741007 0.23741007 0.23741007 0.23741007 0.25373134 0.21818182\n",
      "  0.0969697  0.02816901 0.         0.        ]\n",
      " [0.23741007 0.23741007 0.23741007 0.23741007 0.25373134 0.21818182\n",
      "  0.0969697  0.02816901 0.         0.        ]\n",
      " [0.23741007 0.23741007 0.23741007 0.23741007 0.25373134 0.21818182\n",
      "  0.0969697  0.02816901 0.         0.        ]\n",
      " [0.23741007 0.23741007 0.23741007 0.23741007 0.25373134 0.21818182\n",
      "  0.0969697  0.02816901 0.         0.        ]\n",
      " [0.23741007 0.23741007 0.23741007 0.23741007 0.25373134 0.21818182\n",
      "  0.0969697  0.02816901 0.         0.        ]\n",
      " [0.23741007 0.23741007 0.23741007 0.23741007 0.25373134 0.21818182\n",
      "  0.0969697  0.02816901 0.         0.        ]]\n"
     ]
    }
   ],
   "source": [
    "print(res)"
   ]
  },
  {
   "cell_type": "code",
   "execution_count": null,
   "metadata": {},
   "outputs": [],
   "source": []
  }
 ],
 "metadata": {
  "kernelspec": {
   "display_name": "Python 3 (ipykernel)",
   "language": "python",
   "name": "python3"
  },
  "language_info": {
   "codemirror_mode": {
    "name": "ipython",
    "version": 3
   },
   "file_extension": ".py",
   "mimetype": "text/x-python",
   "name": "python",
   "nbconvert_exporter": "python",
   "pygments_lexer": "ipython3",
   "version": "3.9.13"
  },
  "vscode": {
   "interpreter": {
    "hash": "35687e0410109d90269e8711782cd5b9538046a8a1efa948d1d0e590a31c834d"
   }
  }
 },
 "nbformat": 4,
 "nbformat_minor": 2
}
