{
 "cells": [
  {
   "cell_type": "markdown",
   "id": "340f3861",
   "metadata": {},
   "source": [
    "This method uses the Okubo–Weiss parameter following the method described in:\n",
    "[1] https://link.springer.com/content/pdf/10.1007/s10236-013-0680-7.pdf\n",
    "\n",
    "Limitation:\n",
    "- noise in the W field\n",
    "- detects an excess of eddies (Sadarjoenand Post 2000; Chaigneau et al. 2008)"
   ]
  },
  {
   "cell_type": "code",
   "execution_count": 4,
   "id": "4c179644",
   "metadata": {},
   "outputs": [],
   "source": [
    "import numpy as np\n",
    "import matplotlib.pyplot as plt\n",
    "import matplotlib as mpl\n",
    "%matplotlib notebook"
   ]
  },
  {
   "cell_type": "markdown",
   "id": "c28d7ebc",
   "metadata": {},
   "source": [
    "Read data"
   ]
  },
  {
   "cell_type": "code",
   "execution_count": 5,
   "id": "42ab6f4d",
   "metadata": {},
   "outputs": [],
   "source": [
    "from scipy.io import netcdf_file\n",
    "\n",
    "# https://resources.marine.copernicus.eu/product-download/SEALEVEL_EUR_PHY_L4_MY_008_068\n",
    "#dataset = 'data10102019'\n",
    "dataset = \"01052014\"\n",
    "\n",
    "f = netcdf_file(dataset+\".nc\")\n",
    "lat = f.variables['latitude'].data\n",
    "long = f.variables['longitude'].data\n",
    "vel_x = f.variables['ugos'].data.squeeze()\n",
    "vel_y = f.variables['vgos'].data.squeeze()\n",
    "\n",
    "\n",
    "# fill in missing values\n",
    "from common_functions import interpolate_missing_point\n",
    "\n",
    "#imputed_vel_x = interpolate_missing_point(vel_x, np.ma.masked_invalid(vel_x).mask)\n",
    "#imputed_vel_y = interpolate_missing_point(vel_y, np.ma.masked_invalid(vel_y).mask)\n",
    "imputed_vel_x = np.ma.masked_where(np.isnan(vel_x), vel_x)\n",
    "imputed_vel_y = np.ma.masked_where(np.isnan(vel_y), vel_y)"
   ]
  },
  {
   "cell_type": "markdown",
   "id": "3bc88e6a",
   "metadata": {},
   "source": [
    "## Compute the Okubo-Weiss parameter"
   ]
  },
  {
   "cell_type": "code",
   "execution_count": 6,
   "id": "737d018c",
   "metadata": {},
   "outputs": [],
   "source": [
    "from common_functions import compute_okubo_weiss_parameter\n",
    "\n",
    "def OW(r):\n",
    "    W = compute_okubo_weiss_parameter(imputed_vel_x, imputed_vel_y)\n",
    "    W_0 = -0.2 * np.std(W)\n",
    "    W_eddies = np.ma.where(W < W_0, W, 0)\n",
    "    from scipy import ndimage\n",
    "    W_eddies = ndimage.maximum_filter(W_eddies, size=(r,r))\n",
    "    W_eddies_ma = np.ma.masked_where(W_eddies == 0, np.hypot(imputed_vel_x, imputed_vel_y))\n",
    "    from scipy.ndimage import label\n",
    "    labels, numL = label(W_eddies)\n",
    "    eddies = []\n",
    "    for i in range(1, numL+1):\n",
    "        eddies.append(np.mean(np.argwhere(labels == i),axis=0))\n",
    "    eddies = np.asarray(eddies)\n",
    "    from scipy.interpolate import RegularGridInterpolator\n",
    "\n",
    "    m,n = imputed_vel_x.shape\n",
    "    i = np.linspace(0, m, m)\n",
    "    j = np.linspace(0, n, n)\n",
    "    method = \"linear\"\n",
    "\n",
    "    latm, longm = np.meshgrid(lat, long, indexing='ij')\n",
    "\n",
    "    interp_lat = RegularGridInterpolator((i, j), latm, method=method)\n",
    "    interp_long = RegularGridInterpolator((i, j), longm, method=method)\n",
    "\n",
    "    return np.column_stack([interp_lat(eddies), interp_long(eddies)])"
   ]
  },
  {
   "cell_type": "code",
   "execution_count": 41,
   "id": "0ddff026",
   "metadata": {},
   "outputs": [],
   "source": [
    "from dataclasses import dataclass\n",
    "\n",
    "from scipy.spatial import KDTree\n",
    "from sklearn.metrics.pairwise import haversine_distances\n",
    "\n",
    "real_data = pd.read_csv(\"validation_data/01052014.csv\")\n",
    "real_data = real_data[[\"Lat\",\"Lon\"]].to_numpy()\n",
    "real_data = real_data[(real_data[:,1] > -30) & (real_data[:,1] < -20) & (real_data[:,0] > 20) & (real_data[:,0] < 60)]\n",
    "\n",
    "@dataclass\n",
    "class Method:\n",
    "    name: str\n",
    "    points: np.ndarray\n",
    "    P: int = 0\n",
    "    TP: int = 0\n",
    "    FP: int = 0\n",
    "        \n",
    "    def compare(self, ground_truth: np.ndarray, dist_tol):\n",
    "        '''dist_tol is in km'''\n",
    "        self.P = ground_truth.shape[0]\n",
    "        \n",
    "        tree_detected = KDTree(self.points)\n",
    "        dist, index = tree_detected.query(ground_truth[:,0:2])\n",
    "        truth = np.deg2rad(ground_truth[:,0:2])\n",
    "        detected = np.deg2rad(self.points[index,:])\n",
    "        dist_mat = haversine_distances(truth, detected)\n",
    "        dist = np.diagonal(dist_mat) * 6371000/1000  # multiply by Earth radius to get kilometers\n",
    "        \n",
    "        self.TP = (dist < dist_tol).sum()\n",
    "        self.mean_error = np.mean(dist[dist < dist_tol])\n",
    "        self.FN = self.P - self.TP\n",
    "        \n",
    "        tree_truth = KDTree(ground_truth[:,0:2])\n",
    "        dist, index = tree_truth.query(self.points)\n",
    "        detected = np.deg2rad(ground_truth[index,0:2])\n",
    "        dist_mat = haversine_distances(truth, detected)\n",
    "        dist = np.diagonal(dist_mat) * 6371000/1000  # multiply by Earth radius to get kilometers\n",
    "                \n",
    "        self.FP = (dist > dist_tol).sum()\n",
    "    \n",
    "    @property\n",
    "    def TPR(self):\n",
    "        return self.TP/self.P\n",
    "    \n",
    "    @property\n",
    "    def FDR(self):\n",
    "        return self.FP/(self.FP + self.TP)\n",
    "    \n",
    "    @property\n",
    "    def F1(self):\n",
    "        return self.TP/(self.TP + 0.5*(self.FP + self.FN))"
   ]
  },
  {
   "cell_type": "code",
   "execution_count": 42,
   "id": "e069b326",
   "metadata": {},
   "outputs": [
    {
     "name": "stderr",
     "output_type": "stream",
     "text": [
      "/home/jakeb/development/mdm-phase-a-data/venv/lib/python3.9/site-packages/numpy/core/fromnumeric.py:3432: RuntimeWarning: Mean of empty slice.\n",
      "  return _methods._mean(a, axis=axis, dtype=dtype,\n",
      "/home/jakeb/development/mdm-phase-a-data/venv/lib/python3.9/site-packages/numpy/core/_methods.py:190: RuntimeWarning: invalid value encountered in double_scalars\n",
      "  ret = ret.dtype.type(ret / rcount)\n"
     ]
    }
   ],
   "source": [
    "res = []\n",
    "for r in range(0,10):\n",
    "    try:\n",
    "        method = Method(\"\",OW(r))\n",
    "        method.compare(real_data, 50)\n",
    "        res.append(method.FDR)\n",
    "    except:\n",
    "        res.append(0)"
   ]
  },
  {
   "cell_type": "code",
   "execution_count": 43,
   "id": "272fa932",
   "metadata": {},
   "outputs": [
    {
     "data": {
      "text/plain": [
       "[0.5275590551181102,\n",
       " 0.5275590551181102,\n",
       " 0.5541666666666667,\n",
       " 0.6273584905660378,\n",
       " 0.7326732673267327,\n",
       " 0.7058823529411765,\n",
       " 1.0,\n",
       " 0,\n",
       " 0,\n",
       " 0]"
      ]
     },
     "execution_count": 43,
     "metadata": {},
     "output_type": "execute_result"
    }
   ],
   "source": [
    "res"
   ]
  },
  {
   "cell_type": "code",
   "execution_count": null,
   "id": "eaf742e9",
   "metadata": {},
   "outputs": [],
   "source": []
  }
 ],
 "metadata": {
  "kernelspec": {
   "display_name": "Python 3 (ipykernel)",
   "language": "python",
   "name": "python3"
  },
  "language_info": {
   "codemirror_mode": {
    "name": "ipython",
    "version": 3
   },
   "file_extension": ".py",
   "mimetype": "text/x-python",
   "name": "python",
   "nbconvert_exporter": "python",
   "pygments_lexer": "ipython3",
   "version": "3.9.13"
  }
 },
 "nbformat": 4,
 "nbformat_minor": 5
}
